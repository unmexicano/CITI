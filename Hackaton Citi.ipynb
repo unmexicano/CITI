{
 "cells": [
  {
   "cell_type": "code",
   "execution_count": 2,
   "metadata": {
    "collapsed": true
   },
   "outputs": [],
   "source": [
    "import pandas as pd\n",
    "import seaborn as sns\n",
    "import matplotlib.pyplot as plt\n",
    "\n",
    "sns.set()\n",
    "\n",
    "%matplotlib notebook\n",
    "pd.set_option('display.max_columns',500)"
   ]
  },
  {
   "cell_type": "code",
   "execution_count": 355,
   "metadata": {},
   "outputs": [],
   "source": [
    "nse = pd.read_csv('citi_denue.csv')"
   ]
  },
  {
   "cell_type": "code",
   "execution_count": 356,
   "metadata": {},
   "outputs": [],
   "source": [
    "df = pd.read_excel('Income_BASE JAM2.xlsx',dtype={'codigo_postal':'object'})"
   ]
  },
  {
   "cell_type": "code",
   "execution_count": 362,
   "metadata": {},
   "outputs": [],
   "source": [
    "data = pd.merge(df,nse,how='left',left_on='ID',right_on='ID').drop(['codigo_postal_x','codigo_postal_y'],1)"
   ]
  },
  {
   "cell_type": "code",
   "execution_count": 364,
   "metadata": {},
   "outputs": [],
   "source": [
    "data['Income_Range'] = data['Income_Range'].astype('object')"
   ]
  },
  {
   "cell_type": "code",
   "execution_count": 368,
   "metadata": {},
   "outputs": [],
   "source": [
    "data.rename(columns={'ID':'customer_id'},inplace=True)"
   ]
  },
  {
   "cell_type": "code",
   "execution_count": 372,
   "metadata": {
    "collapsed": true
   },
   "outputs": [],
   "source": [
    "tmp_prof = pd.read_excel('demographic_info.xlsx',sheet_name='task3')\n",
    "tmp_educ = pd.read_excel('demographic_info.xlsx',sheet_name='task4')\n",
    "tmp_sex  = pd.read_excel('demographic_info.xlsx',sheet_name='task5')"
   ]
  },
  {
   "cell_type": "code",
   "execution_count": 425,
   "metadata": {},
   "outputs": [],
   "source": [
    "preprocessed_data  = data.merge(tmp_prof,how='left',left_on='customer_id',right_on='ID').drop(['ID','V_PROFESSION_CD_x','V_PROFESSION_CD_y'],1)  \\\n",
    "                         .merge(tmp_educ,how='left',left_on='customer_id',right_on='ID').drop(['ID','N_COLL_SCHOLARSHIP_LEVEL_x'],1)  \\\n",
    "                         .merge(tmp_sex,how='left',left_on='customer_id',right_on='ID').drop(['ID','V_SEX'],1)"
   ]
  },
  {
   "cell_type": "code",
   "execution_count": 427,
   "metadata": {},
   "outputs": [],
   "source": [
    "preprocessed_data.loc[(preprocessed_data['EDAD']>=18) & (preprocessed_data['EDAD']<=24), 'age_grp'] = '18-24'\n",
    "preprocessed_data.loc[(preprocessed_data['EDAD']>=25) & (preprocessed_data['EDAD']<=54), 'age_grp'] = '25-34'\n",
    "preprocessed_data.loc[(preprocessed_data['EDAD']>=25) & (preprocessed_data['EDAD']<=54), 'age_grp'] = '35-44'\n",
    "preprocessed_data.loc[(preprocessed_data['EDAD']>=25) & (preprocessed_data['EDAD']<=54), 'age_grp'] = '45-54'\n",
    "preprocessed_data.loc[(preprocessed_data['EDAD']>=55) & (preprocessed_data['EDAD']<=64), 'age_grp'] = '55-64'\n",
    "preprocessed_data.loc[(preprocessed_data['EDAD']>=65), 'age_grp'] = '65+'"
   ]
  },
  {
   "cell_type": "code",
   "execution_count": 429,
   "metadata": {},
   "outputs": [],
   "source": [
    "preprocessed_data.columns = ['income','age','cust_id','nse','profession','education','sex','age_grp']"
   ]
  },
  {
   "cell_type": "code",
   "execution_count": 430,
   "metadata": {},
   "outputs": [],
   "source": [
    "preprocessed_data.loc[preprocessed_data['nse'].isnull(), 'nse'] = 'no_info'"
   ]
  },
  {
   "cell_type": "code",
   "execution_count": 443,
   "metadata": {
    "collapsed": true
   },
   "outputs": [],
   "source": [
    "dumm_sex = pd.get_dummies(preprocessed_data['sex']).drop('MEN',1)\n",
    "dumm_nse = pd.get_dummies(preprocessed_data['nse']).drop('no_info',1)\n",
    "dumm_age = pd.get_dummies(preprocessed_data['age_grp'])\n",
    "\n",
    "dumm_profession = pd.get_dummies(preprocessed_data['profession']).drop('NO INFO',1)\n",
    "dumm_education  = pd.get_dummies(preprocessed_data['education']).drop('WITHOUT SCHOLARSHIP',1)"
   ]
  },
  {
   "cell_type": "code",
   "execution_count": 451,
   "metadata": {},
   "outputs": [],
   "source": [
    "preprocessed_data#.drop('age',1,inplace=True)\n",
    "preprocessed_data.drop('age_grp',1,inplace=True)"
   ]
  },
  {
   "cell_type": "code",
   "execution_count": 452,
   "metadata": {},
   "outputs": [],
   "source": [
    "df_final = pd.concat([preprocessed_data,dumm_sex,dumm_profession,dumm_education,dumm_age],1).drop(['nse','profession','education','sex'],1)"
   ]
  },
  {
   "cell_type": "code",
   "execution_count": 453,
   "metadata": {
    "collapsed": true
   },
   "outputs": [],
   "source": [
    "df_final.set_index('cust_id',inplace=True)"
   ]
  },
  {
   "cell_type": "code",
   "execution_count": 455,
   "metadata": {},
   "outputs": [],
   "source": [
    "X = df_final.drop('income',1)\n",
    "y = df_final['income'].astype('int')"
   ]
  },
  {
   "cell_type": "code",
   "execution_count": 549,
   "metadata": {},
   "outputs": [],
   "source": [
    "x_train, x_test, y_train, y_test = train_test_split(X, y, test_size=0.3)"
   ]
  },
  {
   "cell_type": "code",
   "execution_count": 550,
   "metadata": {
    "collapsed": true
   },
   "outputs": [],
   "source": [
    "rf = RandomForestClassifier(n_estimators=150)"
   ]
  },
  {
   "cell_type": "code",
   "execution_count": 551,
   "metadata": {},
   "outputs": [
    {
     "data": {
      "text/plain": [
       "RandomForestClassifier(bootstrap=True, class_weight=None, criterion='gini',\n",
       "            max_depth=None, max_features='auto', max_leaf_nodes=None,\n",
       "            min_impurity_decrease=0.0, min_impurity_split=None,\n",
       "            min_samples_leaf=1, min_samples_split=2,\n",
       "            min_weight_fraction_leaf=0.0, n_estimators=150, n_jobs=1,\n",
       "            oob_score=False, random_state=None, verbose=0,\n",
       "            warm_start=False)"
      ]
     },
     "execution_count": 551,
     "metadata": {},
     "output_type": "execute_result"
    }
   ],
   "source": [
    "rf.fit(x_train,y_train)"
   ]
  },
  {
   "cell_type": "code",
   "execution_count": 552,
   "metadata": {},
   "outputs": [
    {
     "name": "stdout",
     "output_type": "stream",
     "text": [
      "0.3595651306602833\n",
      "0.3616476611589481\n"
     ]
    }
   ],
   "source": [
    "print(rf.score(x_train, y_train))\n",
    "print(rf.score(x_test, y_test))"
   ]
  },
  {
   "cell_type": "code",
   "execution_count": 553,
   "metadata": {
    "collapsed": true
   },
   "outputs": [],
   "source": [
    "results = pd.DataFrame()\n",
    "results['y_real'] = y_test\n",
    "results['y_pred'] = rf.predict(x_test)"
   ]
  },
  {
   "cell_type": "code",
   "execution_count": 554,
   "metadata": {
    "scrolled": true
   },
   "outputs": [],
   "source": [
    "import numpy as np\n",
    "results['error'] = np.abs(results['y_real'] - results['y_pred'])"
   ]
  },
  {
   "cell_type": "code",
   "execution_count": 555,
   "metadata": {
    "scrolled": true
   },
   "outputs": [
    {
     "data": {
      "text/html": [
       "<div>\n",
       "<style scoped>\n",
       "    .dataframe tbody tr th:only-of-type {\n",
       "        vertical-align: middle;\n",
       "    }\n",
       "\n",
       "    .dataframe tbody tr th {\n",
       "        vertical-align: top;\n",
       "    }\n",
       "\n",
       "    .dataframe thead th {\n",
       "        text-align: right;\n",
       "    }\n",
       "</style>\n",
       "<table border=\"1\" class=\"dataframe\">\n",
       "  <thead>\n",
       "    <tr style=\"text-align: right;\">\n",
       "      <th></th>\n",
       "      <th>cust_id</th>\n",
       "    </tr>\n",
       "    <tr>\n",
       "      <th>error</th>\n",
       "      <th></th>\n",
       "    </tr>\n",
       "  </thead>\n",
       "  <tbody>\n",
       "    <tr>\n",
       "      <th>0</th>\n",
       "      <td>1554</td>\n",
       "    </tr>\n",
       "    <tr>\n",
       "      <th>1</th>\n",
       "      <td>2052</td>\n",
       "    </tr>\n",
       "    <tr>\n",
       "      <th>2</th>\n",
       "      <td>483</td>\n",
       "    </tr>\n",
       "    <tr>\n",
       "      <th>3</th>\n",
       "      <td>165</td>\n",
       "    </tr>\n",
       "    <tr>\n",
       "      <th>4</th>\n",
       "      <td>38</td>\n",
       "    </tr>\n",
       "    <tr>\n",
       "      <th>5</th>\n",
       "      <td>5</td>\n",
       "    </tr>\n",
       "  </tbody>\n",
       "</table>\n",
       "</div>"
      ],
      "text/plain": [
       "       cust_id\n",
       "error         \n",
       "0         1554\n",
       "1         2052\n",
       "2          483\n",
       "3          165\n",
       "4           38\n",
       "5            5"
      ]
     },
     "execution_count": 555,
     "metadata": {},
     "output_type": "execute_result"
    }
   ],
   "source": [
    "results.reset_index()[['cust_id','error']].groupby('error').count()"
   ]
  },
  {
   "cell_type": "code",
   "execution_count": 556,
   "metadata": {
    "collapsed": true
   },
   "outputs": [],
   "source": [
    "feature_importances = pd.DataFrame(rf.feature_importances_,\n",
    "                                   index = x_train.columns,\n",
    "                                    columns=['importance']).sort_values('importance',                                                                 ascending=False)"
   ]
  },
  {
   "cell_type": "code",
   "execution_count": 539,
   "metadata": {
    "collapsed": true
   },
   "outputs": [],
   "source": [
    "# probs = pd.DataFrame(rf.predict_proba(x_test),columns=[1,2,3,4,5,6,7])\n",
    "# probs['weighted_1'] = probs[1]*10.761082\n",
    "# probs['weighted_2'] = probs[2]*3.137568\n",
    "# probs['weighted_3'] = probs[3]*3.152762\n",
    "# probs['weighted_4'] = probs[4]*4.961205\n",
    "# probs['weighted_5'] = probs[5]*40.120448\n",
    "# probs['weighted_6'] = probs[6]*31.688053\n",
    "# probs['weighted_7'] = probs[7]*76.186170"
   ]
  },
  {
   "cell_type": "code",
   "execution_count": null,
   "metadata": {
    "collapsed": true
   },
   "outputs": [],
   "source": []
  },
  {
   "cell_type": "code",
   "execution_count": null,
   "metadata": {
    "collapsed": true
   },
   "outputs": [],
   "source": []
  },
  {
   "cell_type": "code",
   "execution_count": null,
   "metadata": {
    "collapsed": true
   },
   "outputs": [],
   "source": []
  },
  {
   "cell_type": "code",
   "execution_count": 559,
   "metadata": {
    "collapsed": true
   },
   "outputs": [],
   "source": [
    "from scipy.stats import kendalltau\n",
    "\n",
    "tau, p_value = kendalltau(list(results['y_real']),list(results['y_pred']))"
   ]
  },
  {
   "cell_type": "code",
   "execution_count": 560,
   "metadata": {},
   "outputs": [
    {
     "data": {
      "text/plain": [
       "8.288353360642698e-51"
      ]
     },
     "execution_count": 560,
     "metadata": {},
     "output_type": "execute_result"
    }
   ],
   "source": [
    "p_value"
   ]
  },
  {
   "cell_type": "code",
   "execution_count": 561,
   "metadata": {},
   "outputs": [
    {
     "data": {
      "text/plain": [
       "0.20370906684591636"
      ]
     },
     "execution_count": 561,
     "metadata": {},
     "output_type": "execute_result"
    }
   ],
   "source": [
    "tau"
   ]
  },
  {
   "cell_type": "code",
   "execution_count": null,
   "metadata": {
    "collapsed": true
   },
   "outputs": [],
   "source": []
  },
  {
   "cell_type": "code",
   "execution_count": null,
   "metadata": {
    "collapsed": true
   },
   "outputs": [],
   "source": []
  }
 ],
 "metadata": {
  "kernelspec": {
   "display_name": "Python 3",
   "language": "python",
   "name": "python3"
  },
  "language_info": {
   "codemirror_mode": {
    "name": "ipython",
    "version": 3
   },
   "file_extension": ".py",
   "mimetype": "text/x-python",
   "name": "python",
   "nbconvert_exporter": "python",
   "pygments_lexer": "ipython3",
   "version": "3.7.0"
  }
 },
 "nbformat": 4,
 "nbformat_minor": 2
}
